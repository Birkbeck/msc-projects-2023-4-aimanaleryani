{
  "nbformat": 4,
  "nbformat_minor": 0,
  "metadata": {
    "colab": {
      "provenance": []
    },
    "kernelspec": {
      "name": "python3",
      "display_name": "Python 3"
    },
    "language_info": {
      "name": "python"
    }
  },
  "cells": [
    {
      "cell_type": "code",
      "execution_count": 1,
      "metadata": {
        "colab": {
          "base_uri": "https://localhost:8080/"
        },
        "id": "uF4s-2sgu1fs",
        "outputId": "758d8836-5353-4469-95e3-57aae52c4ebf"
      },
      "outputs": [
        {
          "output_type": "stream",
          "name": "stdout",
          "text": [
            "Mounted at /content/drive\n"
          ]
        }
      ],
      "source": [
        "#Set up directory and mounting from GDrive\n",
        "import os\n",
        "from google.colab import drive\n",
        "drive.mount('/content/drive')\n"
      ]
    },
    {
      "cell_type": "code",
      "source": [
        "!pip install earthengine-api"
      ],
      "metadata": {
        "colab": {
          "base_uri": "https://localhost:8080/"
        },
        "id": "rKphDGy7w6Df",
        "outputId": "6f820ede-8e69-4d7e-e6fc-d52ccde87f51"
      },
      "execution_count": null,
      "outputs": [
        {
          "output_type": "stream",
          "name": "stdout",
          "text": [
            "Requirement already satisfied: earthengine-api in /usr/local/lib/python3.10/dist-packages (1.0.0)\n",
            "Requirement already satisfied: google-cloud-storage in /usr/local/lib/python3.10/dist-packages (from earthengine-api) (2.8.0)\n",
            "Requirement already satisfied: google-api-python-client>=1.12.1 in /usr/local/lib/python3.10/dist-packages (from earthengine-api) (2.137.0)\n",
            "Requirement already satisfied: google-auth>=1.4.1 in /usr/local/lib/python3.10/dist-packages (from earthengine-api) (2.27.0)\n",
            "Requirement already satisfied: google-auth-httplib2>=0.0.3 in /usr/local/lib/python3.10/dist-packages (from earthengine-api) (0.2.0)\n",
            "Requirement already satisfied: httplib2<1dev,>=0.9.2 in /usr/local/lib/python3.10/dist-packages (from earthengine-api) (0.22.0)\n",
            "Requirement already satisfied: requests in /usr/local/lib/python3.10/dist-packages (from earthengine-api) (2.32.3)\n",
            "Requirement already satisfied: google-api-core!=2.0.*,!=2.1.*,!=2.2.*,!=2.3.0,<3.0.0.dev0,>=1.31.5 in /usr/local/lib/python3.10/dist-packages (from google-api-python-client>=1.12.1->earthengine-api) (2.19.2)\n",
            "Requirement already satisfied: uritemplate<5,>=3.0.1 in /usr/local/lib/python3.10/dist-packages (from google-api-python-client>=1.12.1->earthengine-api) (4.1.1)\n",
            "Requirement already satisfied: cachetools<6.0,>=2.0.0 in /usr/local/lib/python3.10/dist-packages (from google-auth>=1.4.1->earthengine-api) (5.5.0)\n",
            "Requirement already satisfied: pyasn1-modules>=0.2.1 in /usr/local/lib/python3.10/dist-packages (from google-auth>=1.4.1->earthengine-api) (0.4.0)\n",
            "Requirement already satisfied: rsa<5,>=3.1.4 in /usr/local/lib/python3.10/dist-packages (from google-auth>=1.4.1->earthengine-api) (4.9)\n",
            "Requirement already satisfied: pyparsing!=3.0.0,!=3.0.1,!=3.0.2,!=3.0.3,<4,>=2.4.2 in /usr/local/lib/python3.10/dist-packages (from httplib2<1dev,>=0.9.2->earthengine-api) (3.1.4)\n",
            "Requirement already satisfied: google-cloud-core<3.0dev,>=2.3.0 in /usr/local/lib/python3.10/dist-packages (from google-cloud-storage->earthengine-api) (2.4.1)\n",
            "Requirement already satisfied: google-resumable-media>=2.3.2 in /usr/local/lib/python3.10/dist-packages (from google-cloud-storage->earthengine-api) (2.7.2)\n",
            "Requirement already satisfied: charset-normalizer<4,>=2 in /usr/local/lib/python3.10/dist-packages (from requests->earthengine-api) (3.3.2)\n",
            "Requirement already satisfied: idna<4,>=2.5 in /usr/local/lib/python3.10/dist-packages (from requests->earthengine-api) (3.8)\n",
            "Requirement already satisfied: urllib3<3,>=1.21.1 in /usr/local/lib/python3.10/dist-packages (from requests->earthengine-api) (2.0.7)\n",
            "Requirement already satisfied: certifi>=2017.4.17 in /usr/local/lib/python3.10/dist-packages (from requests->earthengine-api) (2024.8.30)\n",
            "Requirement already satisfied: googleapis-common-protos<2.0.dev0,>=1.56.2 in /usr/local/lib/python3.10/dist-packages (from google-api-core!=2.0.*,!=2.1.*,!=2.2.*,!=2.3.0,<3.0.0.dev0,>=1.31.5->google-api-python-client>=1.12.1->earthengine-api) (1.65.0)\n",
            "Requirement already satisfied: protobuf!=3.20.0,!=3.20.1,!=4.21.0,!=4.21.1,!=4.21.2,!=4.21.3,!=4.21.4,!=4.21.5,<6.0.0.dev0,>=3.19.5 in /usr/local/lib/python3.10/dist-packages (from google-api-core!=2.0.*,!=2.1.*,!=2.2.*,!=2.3.0,<3.0.0.dev0,>=1.31.5->google-api-python-client>=1.12.1->earthengine-api) (3.20.3)\n",
            "Requirement already satisfied: proto-plus<2.0.0dev,>=1.22.3 in /usr/local/lib/python3.10/dist-packages (from google-api-core!=2.0.*,!=2.1.*,!=2.2.*,!=2.3.0,<3.0.0.dev0,>=1.31.5->google-api-python-client>=1.12.1->earthengine-api) (1.24.0)\n",
            "Requirement already satisfied: google-crc32c<2.0dev,>=1.0 in /usr/local/lib/python3.10/dist-packages (from google-resumable-media>=2.3.2->google-cloud-storage->earthengine-api) (1.6.0)\n",
            "Requirement already satisfied: pyasn1<0.7.0,>=0.4.6 in /usr/local/lib/python3.10/dist-packages (from pyasn1-modules>=0.2.1->google-auth>=1.4.1->earthengine-api) (0.6.0)\n"
          ]
        }
      ]
    },
    {
      "cell_type": "code",
      "source": [
        "import ee\n",
        "ee.Authenticate()\n",
        "ee.Initialize(project = 'southern-bonsai-435419-q2')"
      ],
      "metadata": {
        "id": "JA1rETJSw7HN"
      },
      "execution_count": 2,
      "outputs": []
    },
    {
      "cell_type": "code",
      "source": [
        "#adapted from https://github.com/csaybar/EEwPython/blob/master/10_Export.ipynb\n",
        "\n",
        "import ee\n",
        "import time\n",
        "\n",
        "# Initialize the Earth Engine API\n",
        "ee.Initialize()\n",
        "12.7049566, 53.5039470\n",
        "# Define the geographic location and buffer\n",
        "#Mareb\n",
        "#longitude = 45.230503\n",
        "#latitude = 15.376969\n",
        "\n",
        "#Socotra\n",
        "# longitude = 53.5039470\n",
        "# latitude = 12.7049566\n",
        "\n",
        "\n",
        "#Wadi Wajar Abyan\n",
        "longitude = 46.156746\n",
        "latitude = 13.941848\n",
        "\n",
        "point = ee.Geometry.Point([longitude, latitude])\n",
        "buffered_point = point.buffer(2000).bounds()\n",
        "region = buffered_point.bounds()\n",
        "\n",
        "\n",
        "\n",
        "# Date range\n",
        "start_date = '1984-01-01'\n",
        "end_date = '2022-12-31'\n",
        "\n",
        "# Load and merge the updated image collections using Collection 2 data\n",
        "landsat5 = ee.ImageCollection('LANDSAT/LT05/C02/T1_TOA').filterDate('1984-01-01', '2012-05-05')\n",
        "landsat7 = ee.ImageCollection('LANDSAT/LE07/C02/T1_TOA').filterDate('1999-01-01', '2022-12-31')\n",
        "landsat8 = ee.ImageCollection('LANDSAT/LC08/C02/T1_TOA').filterDate('2013-01-01', '2022-12-31')\n",
        "full_collection = landsat5.merge(landsat7).merge(landsat8)\n",
        "\n",
        "\n",
        "\n",
        "\n",
        "# Filter out images with more than 50% cloud cover\n",
        "cloud_filtered_collection = full_collection.filter(ee.Filter.lt('CLOUD_COVER', 50))\n",
        "\n",
        "# Function to scale and cast images\n",
        "def scale_and_cast(image):\n",
        "    return image.multiply(255).byte()  # Scale and convert to uint8\n",
        "\n",
        "# Apply the function to each image in the collection\n",
        "filtered_collection = full_collection.filterBounds(region).select(['B4', 'B3', 'B2']).map(scale_and_cast)\n",
        "\n",
        "# Create and start the video export task\n",
        "task = ee.batch.Export.video.toDrive(**{\n",
        "    'collection': filtered_collection,\n",
        "    'description': 'Abyan2',\n",
        "    'dimensions': 720,\n",
        "    'framesPerSecond': 10,\n",
        "    'region': region.coordinates().getInfo(),\n",
        "    'folder': 'YourFolderName',\n",
        "    'scale': 10,\n",
        "    'maxFrames': 10000  # Increase the maxFrames as needed\n",
        "})\n",
        "task.start()\n",
        "\n",
        "# Monitor the task\n",
        "while task.active():\n",
        "    print('Polling for task (id: {}).'.format(task.id))\n",
        "    time.sleep(10)  # Sleep for 10 seconds before polling again\n",
        "\n",
        "print(\"Video export complete.\")\n"
      ],
      "metadata": {
        "colab": {
          "base_uri": "https://localhost:8080/"
        },
        "id": "SSRWpjR24Mr3",
        "outputId": "ca6bb57b-9562-455c-d238-4c65119a5f1e"
      },
      "execution_count": 8,
      "outputs": [
        {
          "output_type": "stream",
          "name": "stdout",
          "text": [
            "Polling for task (id: ICCPCTBL4Y4DMNC2GNTCSDR2).\n",
            "Video export complete.\n"
          ]
        }
      ]
    },
    {
      "cell_type": "code",
      "source": [
        "#adapted from https://github.com/csaybar/EEwPython/blob/master/10_Export.ipynb\n",
        "\n",
        "import ee\n",
        "import time\n",
        "\n",
        "# Initialize the Earth Engine API\n",
        "ee.Initialize()\n",
        "12.7049566, 53.5039470\n",
        "# Define the geographic location and buffer\n",
        "#Mareb\n",
        "#longitude = 45.230503\n",
        "#latitude = 15.376969\n",
        "\n",
        "#Socotra\n",
        "# longitude = 53.5039470\n",
        "# latitude = 12.7049566\n",
        "\n",
        "\n",
        "#Wadi Wajar Abyan\n",
        "longitude = 46.156746\n",
        "latitude = 13.941848\n",
        "\n",
        "point = ee.Geometry.Point([longitude, latitude])\n",
        "buffered_point = point.buffer(2000).bounds()\n",
        "region = buffered_point.bounds()\n",
        "\n",
        "\n",
        "\n",
        "# Date range\n",
        "start_date = '1999-01-01'\n",
        "end_date = '2022-12-31'\n",
        "\n",
        "# Load and merge the updated image collections using Collection 2 data\n",
        "\n",
        "landsat7 = ee.ImageCollection('LANDSAT/LE07/C02/T1_TOA').filterDate('1999-01-01', '2022-12-31')\n",
        "landsat8 = ee.ImageCollection('LANDSAT/LC08/C02/T1_TOA').filterDate('2013-01-01', '2022-12-31')\n",
        "full_collection = landsat7.merge(landsat8)\n",
        "\n",
        "\n",
        "\n",
        "\n",
        "# Filter out images with more than 50% cloud cover\n",
        "cloud_filtered_collection = full_collection.filter(ee.Filter.lt('CLOUD_COVER', 50))\n",
        "\n",
        "# Function to scale and cast images\n",
        "def scale_and_cast(image):\n",
        "    return image.multiply(255).byte()  # Scale and convert to uint8\n",
        "\n",
        "# Apply the function to each image in the collection\n",
        "filtered_collection = full_collection.filterBounds(region).select(['B4', 'B3', 'B2']).map(scale_and_cast)\n",
        "\n",
        "# Create and start the video export task\n",
        "task = ee.batch.Export.video.toDrive(**{\n",
        "    'collection': filtered_collection,\n",
        "    'description': 'Abyan2',\n",
        "    'dimensions': 720,\n",
        "    'framesPerSecond': 10,\n",
        "    'region': region.coordinates().getInfo(),\n",
        "    'folder': 'YourFolderName',\n",
        "    'scale': 10,\n",
        "    'maxFrames': 10000  # Increase the maxFrames as needed\n",
        "})\n",
        "task.start()\n",
        "\n",
        "# Monitor the task\n",
        "while task.active():\n",
        "    print('Polling for task (id: {}).'.format(task.id))\n",
        "    time.sleep(10)  # Sleep for 10 seconds before polling again\n",
        "\n",
        "print(\"Video export complete.\")\n"
      ],
      "metadata": {
        "colab": {
          "base_uri": "https://localhost:8080/"
        },
        "id": "7twsXmW2U0SM",
        "outputId": "ca64a2fa-cb67-46e4-c797-cba2ac554724"
      },
      "execution_count": 9,
      "outputs": [
        {
          "output_type": "stream",
          "name": "stdout",
          "text": [
            "Polling for task (id: CLIH7VYRGMVOJ36BLPKZT7FE).\n",
            "Polling for task (id: CLIH7VYRGMVOJ36BLPKZT7FE).\n",
            "Video export complete.\n"
          ]
        }
      ]
    }
  ]
}